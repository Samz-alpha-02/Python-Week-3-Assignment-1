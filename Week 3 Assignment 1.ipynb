{
 "cells": [
  {
   "cell_type": "code",
   "execution_count": null,
   "id": "2cc95331-0c39-4afe-b95a-419c677b8cd1",
   "metadata": {},
   "outputs": [],
   "source": [
    "#Q1\n",
    "The keyword \"def\" is used to define a function. For example:\n",
    "\n",
    "def my_function():\n",
    "  # function body\n"
   ]
  },
  {
   "cell_type": "code",
   "execution_count": 2,
   "id": "22306ab4-1657-44a0-85ca-3ef1333d9ac4",
   "metadata": {},
   "outputs": [
    {
     "name": "stdout",
     "output_type": "stream",
     "text": [
      "[1, 3, 5, 7, 9, 11, 13, 15, 17, 19, 21, 23, 25]\n"
     ]
    }
   ],
   "source": [
    "def odd():\n",
    "    odd_list=[]\n",
    "    for i in range(26):\n",
    "        if i%2!=0:\n",
    "            odd_list.append(i)\n",
    "    return odd_list\n",
    "    \n",
    "n = odd()\n",
    "print(n)"
   ]
  },
  {
   "cell_type": "code",
   "execution_count": null,
   "id": "c3cb08b8-37ad-4d2c-9cd7-8fbe59ca8df8",
   "metadata": {},
   "outputs": [],
   "source": []
  },
  {
   "cell_type": "code",
   "execution_count": null,
   "id": "47704146-fea5-4dee-862f-700c1e885b4e",
   "metadata": {},
   "outputs": [],
   "source": [
    "#Q2\n",
    "The *args and **kwargs are special syntax in Python used to pass a variable number of arguments to a function. \n",
    "Here is an explanation of how they work:\n",
    "\n",
    "1. *args allows you to pass a variable number of non-keyword arguments to a function. The *args parameter \n",
    "    collects these arguments into a tuple, which can then be accessed within the function.\n",
    "\n",
    "2. **kwargs allows you to pass a variable number of keyword arguments to a function. The **kwargs parameter \n",
    "    collects these arguments into a dictionary, where the keys are the argument names and the values are the \n",
    "    argument values.\n",
    "Now let us create a function to demonstrate the use of *args and **kwargs:    \n",
    "    "
   ]
  },
  {
   "cell_type": "code",
   "execution_count": 6,
   "id": "c4e1230e-e1dd-468d-9fa0-101849ff1a93",
   "metadata": {},
   "outputs": [
    {
     "name": "stdout",
     "output_type": "stream",
     "text": [
      "1\n",
      "2\n",
      "3\n",
      "4\n",
      "5\n"
     ]
    }
   ],
   "source": [
    "#Example for *args\n",
    "\n",
    "def example_args(*args):\n",
    "    for arg in args:\n",
    "        print(arg)\n",
    "\n",
    "example_args(1, 2, 3, 4, 5)\n"
   ]
  },
  {
   "cell_type": "code",
   "execution_count": 8,
   "id": "52e20994-0996-43ed-b9a6-0f05c896c648",
   "metadata": {},
   "outputs": [
    {
     "name": "stdout",
     "output_type": "stream",
     "text": [
      "Name: John\n",
      "Age: 25\n",
      "City: New York\n"
     ]
    }
   ],
   "source": [
    "#Example for **kwargs\n",
    "\n",
    "def example_kwargs(**kwargs):\n",
    "    for key, value in kwargs.items():\n",
    "        print(f\"{key}: {value}\")\n",
    "\n",
    "example_kwargs(Name=\"John\", Age=25, City=\"New York\")\n"
   ]
  },
  {
   "cell_type": "code",
   "execution_count": null,
   "id": "74b822ee-9a8e-401e-9302-5d01f509760e",
   "metadata": {},
   "outputs": [],
   "source": []
  },
  {
   "cell_type": "code",
   "execution_count": null,
   "id": "5b6d563f-a9b1-4571-aee9-5f8d3bde0b26",
   "metadata": {},
   "outputs": [],
   "source": [
    "#Q3\n",
    "In Python, an iterator is an object that allows iteration over a collection of elements or values. It provides \n",
    "a way to access the elements of a collection one at a time without needing to know the underlying implementation \n",
    "details. Iterators are commonly used in loops to traverse through elements in a sequence or container.\n",
    "\n",
    "To initialize an iterator object, we can use the iter() method, which takes an iterable as an argument and \n",
    "returns an iterator object.\n",
    "\n",
    "To iterate over the elements using an iterator, we use the next() method. It retrieves the next element from the\n",
    "iterator. We can call next() repeatedly until all the elements have been processed. Once all the elements have been \n",
    "retrieved, the next() method will raise a StopIteration exception."
   ]
  },
  {
   "cell_type": "code",
   "execution_count": 10,
   "id": "89e77fbf-b74b-4239-b983-ec3b486b5cfa",
   "metadata": {},
   "outputs": [
    {
     "name": "stdout",
     "output_type": "stream",
     "text": [
      "2\n",
      "4\n",
      "6\n",
      "8\n",
      "10\n"
     ]
    }
   ],
   "source": [
    "my_list = [2, 4, 6, 8, 10, 12, 14, 16, 18, 20]\n",
    "\n",
    "# Initialize the iterator object\n",
    "my_iterator = iter(my_list)\n",
    "\n",
    "# Iterate and print the first five elements\n",
    "for i in range(5):\n",
    "    element = next(my_iterator)\n",
    "    print(element)\n"
   ]
  },
  {
   "cell_type": "code",
   "execution_count": null,
   "id": "b0b9683a-8a62-445a-804a-f72f38e080b7",
   "metadata": {},
   "outputs": [],
   "source": []
  },
  {
   "cell_type": "code",
   "execution_count": null,
   "id": "5c64b802-7fef-40fd-ac7d-8b4ec49fcb0f",
   "metadata": {},
   "outputs": [],
   "source": [
    "#Q4\n",
    "In Python, a generator function is a special type of function that generates a sequence of values using the \n",
    "yield keyword. It allows you to create an iterator in a more concise and memory-efficient way compared to using a \n",
    "regular function with a list.\n",
    "\n",
    "The yield keyword is used in a generator function to define a point where the function should pause and yield a \n",
    "value to the caller. When the generator function is called, it returns a generator object, which can be iterated \n",
    "over using a loop or other iterator functions. Each time the yield statement is encountered, the function's state is \n",
    "saved, and the yielded value is returned. The next time the generator is iterated, it resumes execution from where it \n",
    "left off.\n",
    "\n",
    "The advantage of using generator functions and the yield keyword is that they allow you to generate values on-the-fly, \n",
    "lazily computing them as needed. This can save memory and processing resources, particularly when dealing with large data \n",
    "sets or infinite sequences.\n",
    "\n",
    "Here is an example of a generator function that generates a sequence of even numbers up to a given limit:"
   ]
  },
  {
   "cell_type": "code",
   "execution_count": 13,
   "id": "666df8ac-3b19-4af4-9fe2-52e51d28b272",
   "metadata": {},
   "outputs": [
    {
     "name": "stdout",
     "output_type": "stream",
     "text": [
      "2\n",
      "4\n",
      "6\n",
      "8\n",
      "10\n"
     ]
    }
   ],
   "source": [
    "def even_numbers(limit):\n",
    "    num = 2\n",
    "    while num <= limit:\n",
    "        yield num\n",
    "        num += 2\n",
    "\n",
    "for num in even_numbers(10):\n",
    "    print(num)\n"
   ]
  },
  {
   "cell_type": "code",
   "execution_count": null,
   "id": "bf3ae921-5b62-4aab-ad42-85efe9eb0cb9",
   "metadata": {},
   "outputs": [],
   "source": []
  },
  {
   "cell_type": "code",
   "execution_count": 12,
   "id": "cca2b9bf-a353-4ee7-a977-4624e1a93be1",
   "metadata": {},
   "outputs": [
    {
     "name": "stdout",
     "output_type": "stream",
     "text": [
      "2\n",
      "3\n",
      "5\n",
      "7\n",
      "11\n",
      "13\n",
      "17\n",
      "19\n",
      "23\n",
      "29\n",
      "31\n",
      "37\n",
      "41\n",
      "43\n",
      "47\n",
      "53\n",
      "59\n",
      "61\n",
      "67\n",
      "71\n"
     ]
    }
   ],
   "source": [
    "#Q5\n",
    "def prime_num():\n",
    "    num=2\n",
    "    count=0\n",
    "    primes=[]\n",
    "    while num<=1000:\n",
    "        for i in range(2,num):\n",
    "            if num%i==0:\n",
    "                count=count+1\n",
    "        if count<1:\n",
    "            yield num\n",
    "            primes.append(num)\n",
    "        count=0\n",
    "        num+=1\n",
    "\n",
    "prime_gen = prime_num()\n",
    "\n",
    "for i in range(20):\n",
    "    prime = next(prime_gen)\n",
    "    print(prime)\n",
    "\n",
    "            "
   ]
  },
  {
   "cell_type": "code",
   "execution_count": null,
   "id": "648ae8a3-1707-4f11-89e8-9debc75b4465",
   "metadata": {},
   "outputs": [],
   "source": []
  },
  {
   "cell_type": "code",
   "execution_count": 14,
   "id": "473afb56-03b8-4eae-a894-b85eae5f6ba4",
   "metadata": {},
   "outputs": [
    {
     "name": "stdout",
     "output_type": "stream",
     "text": [
      "0 1 1 2 3 5 8 13 21 34 "
     ]
    }
   ],
   "source": [
    "#Q6\n",
    "# Function to print the first 10 Fibonacci numbers\n",
    "def print_fibonacci():\n",
    "    # Initialize the first two Fibonacci numbers\n",
    "    num1, num2 = 0, 1\n",
    "    count = 0\n",
    "\n",
    "    # Print the Fibonacci numbers using a while loop\n",
    "    while count < 10:\n",
    "        print(num1, end=\" \")\n",
    "\n",
    "        # Update Fibonacci sequence\n",
    "        num1, num2 = num2, num1 + num2\n",
    "        count += 1\n",
    "\n",
    "# Call the function to print the first 10 Fibonacci numbers\n",
    "print_fibonacci()"
   ]
  },
  {
   "cell_type": "code",
   "execution_count": null,
   "id": "fb66e7e8-1ef7-467d-9d74-e3d905bc876b",
   "metadata": {},
   "outputs": [],
   "source": []
  },
  {
   "cell_type": "code",
   "execution_count": 15,
   "id": "20ef9de9-b002-412d-8a21-0a13c93ff00b",
   "metadata": {},
   "outputs": [
    {
     "name": "stdout",
     "output_type": "stream",
     "text": [
      "['p', 'w', 's', 'k', 'i', 'l', 'l', 's']\n"
     ]
    }
   ],
   "source": [
    "#Q7\n",
    "string = 'pwskills'\n",
    "\n",
    "result = [char for char in string if char in 'pwskills']\n",
    "print(result)\n"
   ]
  },
  {
   "cell_type": "code",
   "execution_count": null,
   "id": "75c0d2b4-13dc-4050-b23a-319af803b3bd",
   "metadata": {},
   "outputs": [],
   "source": []
  },
  {
   "cell_type": "code",
   "execution_count": 16,
   "id": "a85a44af-c220-4a0a-9a43-1f8d6d09a45c",
   "metadata": {},
   "outputs": [
    {
     "name": "stdout",
     "output_type": "stream",
     "text": [
      "It is a palindrome number.\n",
      "It is not a palindrome number.\n",
      "It is a palindrome number.\n",
      "It is not a palindrome number.\n"
     ]
    }
   ],
   "source": [
    "#Q8\n",
    "def is_palindrome(n):\n",
    "    original = n\n",
    "    reversed_num = 0\n",
    "\n",
    "    while n > 0:\n",
    "        digit = n % 10\n",
    "        reversed_num = reversed_num * 10 + digit\n",
    "        n = n // 10\n",
    "\n",
    "    if original == reversed_num:\n",
    "        print(\"It is a palindrome number.\")\n",
    "    else:\n",
    "        print(\"It is not a palindrome number.\")\n",
    "\n",
    "# Test the function\n",
    "is_palindrome(202)\n",
    "is_palindrome(604)\n",
    "is_palindrome(121)\n",
    "is_palindrome(351)"
   ]
  },
  {
   "cell_type": "code",
   "execution_count": null,
   "id": "4b38c4e1-d1fd-456a-9a95-adfdcd8b09f7",
   "metadata": {},
   "outputs": [],
   "source": []
  },
  {
   "cell_type": "code",
   "execution_count": 17,
   "id": "894be65d-687e-46c2-b171-6a26fc58303f",
   "metadata": {},
   "outputs": [
    {
     "name": "stdout",
     "output_type": "stream",
     "text": [
      "[1, 3, 5, 7, 9, 11, 13, 15, 17, 19, 21, 23, 25, 27, 29, 31, 33, 35, 37, 39, 41, 43, 45, 47, 49, 51, 53, 55, 57, 59, 61, 63, 65, 67, 69, 71, 73, 75, 77, 79, 81, 83, 85, 87, 89, 91, 93, 95, 97, 99]\n"
     ]
    }
   ],
   "source": [
    "#Q9\n",
    "odd = [num for num in range(1,101)]\n",
    "odd_numbers = [num for num in odd if num % 2 != 0]\n",
    "print(odd_numbers)"
   ]
  },
  {
   "cell_type": "code",
   "execution_count": null,
   "id": "7c595055-78be-4bf3-a8dc-8784f9449ff6",
   "metadata": {},
   "outputs": [],
   "source": []
  }
 ],
 "metadata": {
  "kernelspec": {
   "display_name": "Python 3 (ipykernel)",
   "language": "python",
   "name": "python3"
  },
  "language_info": {
   "codemirror_mode": {
    "name": "ipython",
    "version": 3
   },
   "file_extension": ".py",
   "mimetype": "text/x-python",
   "name": "python",
   "nbconvert_exporter": "python",
   "pygments_lexer": "ipython3",
   "version": "3.10.8"
  }
 },
 "nbformat": 4,
 "nbformat_minor": 5
}
